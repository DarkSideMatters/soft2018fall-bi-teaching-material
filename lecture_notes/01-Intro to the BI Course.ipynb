{
 "cells": [
  {
   "cell_type": "markdown",
   "metadata": {},
   "source": [
    "# Welcome...\n",
    "\n",
    "![back_to_school](https://camo.githubusercontent.com/021cd7223ce9288131176e7ab15bfa288bc7bb7c/68747470733a2f2f732d6d656469612d63616368652d616b302e70696e696d672e636f6d2f373336782f39332f38662f37352f39333866373561636531343263666130623232623464626535636335353861332e6a7067)"
   ]
  },
  {
   "cell_type": "markdown",
   "metadata": {},
   "source": [
    "# Organisational Notes\n",
    "\n",
    "This is an elective across study programs, we are going to work as consultants for the business students.\n",
    "\n",
    "\n",
    "\n",
    "## The Exam\n",
    "\n",
    "The project is your exam, see https://datsoftlyngby.github.io/soft2018fall/BI_plan.html.\n",
    "\n",
    "\n",
    "## Assignments\n",
    "\n",
    "No other assignments than consulting workshop. You have to be there and you will get studypoints for that.\n",
    "\n",
    "## Course Material\n",
    "\n",
    "  * You will find all the notebooks (the presentation you are looking at) and other code examples with corresponding data under the following GitHub repository:\n",
    "https://github.com/datsoftlyngby/soft2018fall-bi-teaching-material\n",
    "\n",
    "Fork it and clone it.\n",
    "\n",
    "\n",
    "## Literature\n",
    "\n",
    "You should not really need any other literature besides all the information given in the notebooks in the `lecture_notes` directory.\n",
    "\n",
    "However, this course uses in it's first sessions the **free** ebook _A Whirlwind Tour of Python_ (http://www.oreilly.com/programming/free/a-whirlwind-tour-of-python.csp). ![](http://covers.oreillystatic.com/images/0636920053194/cat.gif) \n",
    "You can read it online https://jakevdp.github.io/WhirlwindTourOfPython/\n",
    "\n",
    "\n",
    "Later sessions are inspired by the book _Python 3 Text Processing with NLTK 3 Cookbook_ (https://www.safaribooksonline.com/library/view/python-3-text/9781782167853/). ![](https://www.safaribooksonline.com/library/cover/9781782167853/360h/)\n",
    "\n",
    "The **free** _\"Python Data Science Handbook\"_ ebook https://jakevdp.github.io/PythonDataScienceHandbook/index.html might be a useful source too.\n",
    "![](https://covers.oreillystatic.com/images/0636920034919/cat.gif) "
   ]
  },
  {
   "cell_type": "markdown",
   "metadata": {},
   "source": [
    "# Schedule\n",
    "\n",
    "  * Course in two blocks\n",
    "    - Data Processing Fundamentals Block\n",
    "    - Consulting Project Block\n",
    "  * Thursday mornings (8.30 to 12.00)\n",
    "  * Lokale 2.03\n",
    "\n",
    "See, https://datsoftlyngby.github.io/soft2018fall/BI_plan.html."
   ]
  },
  {
   "cell_type": "markdown",
   "metadata": {},
   "source": [
    "# Groups\n",
    "\n",
    "  * As all good consultants we will work in groups. Likely of size four."
   ]
  },
  {
   "cell_type": "markdown",
   "metadata": {},
   "source": [
    "# What is Business Intelligence?\n",
    "\n",
    "\n",
    "### Definition 1\n",
    "> Business intelligence, or BI, is an umbrella term that refers to a variety of software applications used to analyze an organization’s raw data. BI as a discipline is made up of several related activities, including data mining, online analytical processing, querying and reporting.\n",
    "> \n",
    "> Companies use BI to improve decision making, cut costs and identify new business opportunities. BI is more than just corporate reporting and more than a set of tools to coax data out of enterprise systems. CIOs use BI to identify inefficient business processes that are ripe for re-engineering.\n",
    "http://www.cio.com/article/2439504/business-intelligence/business-intelligence-business-intelligence-definition-and-solutions.html\n",
    "\n",
    "### Definition 2\n",
    "> First of all, BI isn't just a pile of information, it's actually a whole set of theories and processes that help professionals sort through and analyze the information they collect.\n",
    "> \n",
    "> A lot of information passes through a company's internal network, but this information must be organized and presented in a relevant, contextualized way before it is useful in the decision-making processes of an organization.\n",
    "> \n",
    "> Good BI is instrumental in making businesses successful. The information gathered and sorted by BI analysts helps companies better understand their history, where they stand and how they might grow in the future.\n",
    "http://www.businessnewsdaily.com/4692-business-intelligence.html\n",
    "\n",
    "\n",
    "### Definition 3\n",
    "> Business intelligence (BI) simplifies information discovery and analysis, making it possible for decision-makers at all levels of an organization to more easily access, understand, analyze, collaborate, and act on information, anytime and anywhere. https://technet.microsoft.com/en-us/library/cc811595(v=office.12).aspx\n",
    "\n",
    "\n",
    "\n",
    "\n"
   ]
  }
 ],
 "metadata": {
  "kernelspec": {
   "display_name": "Python 3",
   "language": "python",
   "name": "python3"
  },
  "language_info": {
   "codemirror_mode": {
    "name": "ipython",
    "version": 3
   },
   "file_extension": ".py",
   "mimetype": "text/x-python",
   "name": "python",
   "nbconvert_exporter": "python",
   "pygments_lexer": "ipython3",
   "version": "3.6.4"
  }
 },
 "nbformat": 4,
 "nbformat_minor": 2
}
