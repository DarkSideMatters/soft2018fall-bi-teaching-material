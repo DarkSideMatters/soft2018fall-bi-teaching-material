{
 "cells": [
  {
   "cell_type": "markdown",
   "metadata": {},
   "source": [
    "# Installing Python in a Ubuntu Linux Environment\n",
    "\n",
    "The easiest way to get up and running is to install Python via the Anaconda distribution. It comes with many Python packages pre-installed and helps you to get productive quickly.\n",
    "\n",
    "  * Go to https://www.anaconda.com/download/#linux\n",
    "  * Download the Anaconda **Python 3.6 version** installer for your operating system (Windows, Linux, and macOS are supported)\n",
    "    - https://repo.anaconda.com/archive/Anaconda3-5.2.0-Linux-x86_64.sh\n",
    "    - You can download it through your browser or on the terminal with:\n",
    "    ~~~bash\n",
    "$ wget https://repo.continuum.io/archive/Anaconda3-5.2.0-Linux-x86_64.sh -O $HOME/Anaconda3-4.4.0-Linux-x86_64.sh\n",
    "~~~\n",
    "  * After downloading follow the installation instructions on https://docs.anaconda.com/anaconda/install/linux, in essence:\n",
    "    - Run:\n",
    "    ~~~bash\n",
    "$ bash ~/Downloads/Anaconda3-5.2.0-Linux-x86_64.sh\n",
    "~~~\n",
    "\n",
    "    - Choose the default installation path.\n",
    "    - Choose `Yes` to prepend the installation path to the `PATH` variable in your `/home/<user>/.bashrc`.\n",
    "    - Reload your Bash configuration with `source ~/.bashrc`\n",
    "    - Test that you have a Python 3.6 installed now with `python --version`, which should produce an output similar to the following:\n",
    "    ~~~bash\n",
    "$ python --version\n",
    "Python 3.6.4 :: Anaconda, Inc.\n",
    "~~~"
   ]
  },
  {
   "cell_type": "markdown",
   "metadata": {},
   "source": [
    "  \n",
    "  \n",
    "# Using the Lecture Notes\n",
    "  \n",
    "  \n",
    "  \n",
    "  * Clone this repository into a directory of your choice (`/path/to/`):\n",
    "\n",
    "    ```\n",
    "    git clone https://github.com/datsoftlyngby/soft2018fall-bi-teaching-material.git \n",
    "    ```\n",
    "\n",
    "  * On the command line change directory to where you cloned this repository (`/path/to/soft2017fall-bi-teaching-material/lecture_notes`). Likely, it is just:\n",
    "  \n",
    "    ```bash\n",
    "    cd ./soft2018fall-bi-teaching-material/lecture_notes\n",
    "    ```\n",
    "  * Start the Jupyter notebook server\n",
    "  ```\n",
    "  ~$ jupyter notebook\n",
    "  ```\n",
    "    * **Note** The `jupyter notebook` command is context sensitive. That is, it is always started in the scope of the current directory. When you have your notebooks stored in another directory than the one in which you execute `jupyter notebook`, then you have change directories before.\n",
    "  * The former command should open a browser window similar to the following ![local_notebook](./images/local_notebook.png)\n",
    "\n",
    "\n",
    "\n",
    "# Using a Web Service\n",
    "\n",
    "\n",
    "There are various ways to access Python via Jupyter Notebooks hosted as a service. Here, we will show how to use Jupyter Notebooks hosted on Microsoft Azure.\n",
    "\n",
    "  * Go to https://studio.azureml.net\n",
    "  * You should be able to login with your school account. \n",
    "    - If not create a new account if you do not already have a Microsoft account.\n",
    "  * After logging into the service you should see a page similar to the following ![login](./images/login.png)\n",
    "  * Click on `NOTEBOOKS` to the left and create a new empty notebook by clicking `+` and subsequently choosing `Python 3 Blank Notebook` ![new_notebook](./images/new_notebook.png)\n",
    "  * Give your new notebook a representative name ![name_new_notebook](./images/name_new_notebook.png)\n",
    "  * After a short time, you can start coding in your new notebook ![code_notebook](./images/code_notebook.png)\n",
    "  \n",
    "  \n",
    "**OBS** The Azure Web Environment did not work in Safari for me. However, in Chromium, Firefox, etc. it worked.\n",
    "  "
   ]
  },
  {
   "cell_type": "markdown",
   "metadata": {},
   "source": [
    "# A Whirlwind Tour of Python\n",
    "\n",
    "We will now run through the basics of Python 3:\n",
    "\n",
    "  * [00-Introduction.ipynb](./Whirlwind Tour Of Python/00-Introduction.ipynb)\n",
    "  * [01-How-to-Run-Python-Code.ipynb](./Whirlwind Tour Of Python/01-How-to-Run-Python-Code.ipynb)\n",
    "  * [02-Basic-Python-Syntax.ipynb](./Whirlwind Tour Of Python/02-Basic-Python-Syntax.ipynb)\n",
    "  * [03-Semantics-Variables.ipynb](./Whirlwind Tour Of Python/03-Semantics-Variables.ipynb)\n",
    "  * [04-Semantics-Operators.ipynb](./Whirlwind Tour Of Python/04-Semantics-Operators.ipynb)\n",
    "  * [05-Built-in-Scalar-Types.ipynb](./Whirlwind Tour Of Python/05-Built-in-Scalar-Types.ipynb)\n",
    "  * [06-Built-in-Data-Structures.ipynb](./Whirlwind Tour Of Python/06-Built-in-Data-Structures.ipynb)\n",
    "  * [07-Control-Flow-Statements.ipynb](./Whirlwind Tour Of Python/07-Control-Flow-Statements.ipynb)\n",
    "  * [08-Defining-Functions.ipynb](./Whirlwind Tour Of Python/08-Defining-Functions.ipynb)\n",
    "  * [09-Errors-and-Exceptions.ipynb](./Whirlwind Tour Of Python/09-Errors-and-Exceptions.ipynb)"
   ]
  }
 ],
 "metadata": {
  "kernelspec": {
   "display_name": "Python 3",
   "language": "python",
   "name": "python3"
  },
  "language_info": {
   "codemirror_mode": {
    "name": "ipython",
    "version": 3
   },
   "file_extension": ".py",
   "mimetype": "text/x-python",
   "name": "python",
   "nbconvert_exporter": "python",
   "pygments_lexer": "ipython3",
   "version": "3.6.4"
  }
 },
 "nbformat": 4,
 "nbformat_minor": 2
}
